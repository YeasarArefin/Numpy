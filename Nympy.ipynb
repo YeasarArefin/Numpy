{
 "cells": [
  {
   "cell_type": "markdown",
   "id": "9f0412ba",
   "metadata": {},
   "source": [
    "## Nunmpy Phase-1"
   ]
  },
  {
   "cell_type": "code",
   "execution_count": 19,
   "id": "3f3ee2b1",
   "metadata": {},
   "outputs": [],
   "source": [
    "import numpy as np"
   ]
  },
  {
   "cell_type": "markdown",
   "id": "e6d96298",
   "metadata": {},
   "source": [
    "### Creating Array from List"
   ]
  },
  {
   "cell_type": "code",
   "execution_count": 20,
   "id": "b1faa188",
   "metadata": {},
   "outputs": [
    {
     "name": "stdout",
     "output_type": "stream",
     "text": [
      "1D array : \n",
      " [1 2 3 4 5]\n",
      "2D array : \n",
      " [[1 2 3]\n",
      " [4 5 6]]\n"
     ]
    }
   ],
   "source": [
    "arr_1d = np.array([1,2,3,4,5])\n",
    "print(\"1D array : \\n\", arr_1d)\n",
    "\n",
    "arr_2d = np.array([[1,2,3],[4,5,6]])\n",
    "print(\"2D array : \\n\", arr_2d)"
   ]
  },
  {
   "cell_type": "markdown",
   "id": "484dea0b",
   "metadata": {},
   "source": [
    "### List vs Numpy array"
   ]
  },
  {
   "cell_type": "code",
   "execution_count": 21,
   "id": "ea5053d4",
   "metadata": {},
   "outputs": [
    {
     "name": "stdout",
     "output_type": "stream",
     "text": [
      "Python list multiplication :  [1, 2, 3, 1, 2, 3]\n",
      "Numpy array multiplication :  [2 4 6]\n"
     ]
    }
   ],
   "source": [
    "py_list = [1,2,3]\n",
    "print(\"Python list multiplication : \" , py_list * 2)\n",
    "\n",
    "np_array = np.array([1,2,3])\n",
    "print(\"Numpy array multiplication : \", np_array*2) # element wise multiplication \n"
   ]
  },
  {
   "cell_type": "markdown",
   "id": "7a0dcb18",
   "metadata": {},
   "source": [
    "### Creating array form scratch"
   ]
  },
  {
   "cell_type": "code",
   "execution_count": 22,
   "id": "6da5a7ab",
   "metadata": {},
   "outputs": [
    {
     "name": "stdout",
     "output_type": "stream",
     "text": [
      "Zeros Array : \n",
      " [[0. 0. 0. 0.]\n",
      " [0. 0. 0. 0.]\n",
      " [0. 0. 0. 0.]]\n",
      "Ones Array : \n",
      " [[1. 1. 1. 1.]\n",
      " [1. 1. 1. 1.]\n",
      " [1. 1. 1. 1.]]\n",
      "Full Array : \n",
      " [[5 5 5 5]\n",
      " [5 5 5 5]\n",
      " [5 5 5 5]]\n",
      "Random Array : \n",
      " [[0.44508503 0.38969599 0.95559441 0.98779287]\n",
      " [0.47568133 0.56239714 0.84500834 0.77085517]\n",
      " [0.04243558 0.78669202 0.02848134 0.70363002]]\n",
      "Zeros Array : \n",
      " [0 2 4 6 8]\n"
     ]
    }
   ],
   "source": [
    "zeros = np.zeros((3,4))\n",
    "print(\"Zeros Array : \\n\", zeros)\n",
    "\n",
    "ones = np.ones((3,4))\n",
    "print(\"Ones Array : \\n\", ones)\n",
    "\n",
    "full = np.full((3,4),5) #.full((row,column),intitNumber)\n",
    "print(\"Full Array : \\n\", full)\n",
    "\n",
    "random = np.random.random((3,4)) \n",
    "print(\"Random Array : \\n\", random)\n",
    "\n",
    "sequence = np.arange(0,10,2) #.arange(start,stop,step)\n",
    "print(\"Zeros Array : \\n\", sequence)"
   ]
  },
  {
   "cell_type": "markdown",
   "id": "e2f0e627",
   "metadata": {},
   "source": [
    "### Vector, Matrix and Tensor"
   ]
  },
  {
   "cell_type": "code",
   "execution_count": 23,
   "id": "4f57b21e",
   "metadata": {},
   "outputs": [
    {
     "name": "stdout",
     "output_type": "stream",
     "text": [
      "Vector : \n",
      " [1 2 3]\n",
      "Matrix : \n",
      " [[1 2 3]\n",
      " [4 5 6]]\n",
      "Tensor : \n",
      " [[[1 2]\n",
      "  [3 4]]\n",
      "\n",
      " [[5 6]\n",
      "  [7 8]]]\n"
     ]
    }
   ],
   "source": [
    "vector = np.array([1,2,3])\n",
    "print(\"Vector : \\n\", vector)\n",
    "\n",
    "matrix = np.array([[1,2,3],\n",
    "                   [4,5,6]])\n",
    "print(\"Matrix : \\n\", matrix)\n",
    "\n",
    "tensor = np.array([[[1,2],[3,4]],\n",
    "                   [[5,6],[7,8]]])\n",
    "print(\"Tensor : \\n\", tensor)"
   ]
  },
  {
   "cell_type": "markdown",
   "id": "dd4eadfb",
   "metadata": {},
   "source": [
    "### Array properties"
   ]
  },
  {
   "cell_type": "code",
   "execution_count": 24,
   "id": "65997c4d",
   "metadata": {},
   "outputs": [
    {
     "name": "stdout",
     "output_type": "stream",
     "text": [
      "Shape :  (2, 3)\n",
      "Dimension :  2\n",
      "Size :  6\n",
      "Datatype :  int64\n"
     ]
    }
   ],
   "source": [
    "arr = np.array([[1,2,3],\n",
    "                [4,5,6]])\n",
    "print(\"Shape : \", arr.shape)\n",
    "print(\"Dimension : \", arr.ndim)\n",
    "print(\"Size : \", arr.size)\n",
    "print(\"Datatype : \", arr.dtype)\n",
    "\n"
   ]
  },
  {
   "cell_type": "markdown",
   "id": "9a0a3944",
   "metadata": {},
   "source": [
    "### Array Reshaping"
   ]
  },
  {
   "cell_type": "code",
   "execution_count": 25,
   "id": "5136b8c4",
   "metadata": {},
   "outputs": [
    {
     "name": "stdout",
     "output_type": "stream",
     "text": [
      "Original Array :  [ 0  1  2  3  4  5  6  7  8  9 10 11]\n",
      "Reshaped Array : \n",
      " [[ 0  1  2  3]\n",
      " [ 4  5  6  7]\n",
      " [ 8  9 10 11]]\n",
      "Flattened Array : \n",
      " [ 0  1  2  3  4  5  6  7  8  9 10 11]\n",
      "Raveled Array : \n",
      " [ 0  1  2  3  4  5  6  7  8  9 10 11]\n",
      "Transposed Array : \n",
      " [[ 0  4  8]\n",
      " [ 1  5  9]\n",
      " [ 2  6 10]\n",
      " [ 3  7 11]]\n"
     ]
    }
   ],
   "source": [
    "arr = np.arange(12);\n",
    "print(\"Original Array : \",arr);\n",
    "\n",
    "reshaped = arr.reshape((3,4))\n",
    "print(\"Reshaped Array : \\n\", reshaped)\n",
    "\n",
    "flattened = reshaped.flatten()\n",
    "print(\"Flattened Array : \\n\", flattened)\n",
    "\n",
    "raveled = reshaped.ravel() # it returns view instead of copy\n",
    "print(\"Raveled Array : \\n\", raveled)\n",
    "\n",
    "transposed = reshaped.T\n",
    "print(\"Transposed Array : \\n\", transposed)"
   ]
  },
  {
   "cell_type": "markdown",
   "id": "3cb5f06e",
   "metadata": {},
   "source": [
    "## Numpy Phase-2"
   ]
  },
  {
   "cell_type": "code",
   "execution_count": 26,
   "id": "b10b25d7",
   "metadata": {},
   "outputs": [],
   "source": [
    "import numpy as np"
   ]
  },
  {
   "cell_type": "markdown",
   "id": "a1528522",
   "metadata": {},
   "source": [
    "### Selecting And Slicing "
   ]
  },
  {
   "cell_type": "code",
   "execution_count": 27,
   "id": "acc191c1",
   "metadata": {},
   "outputs": [
    {
     "name": "stdout",
     "output_type": "stream",
     "text": [
      "Basic Slicing :  [3 4 5 6 7]\n",
      "With Step Slicing :  [2 4 6 8]\n",
      "Negative Indexing :  8\n"
     ]
    }
   ],
   "source": [
    "arr = np.array([1,2,3,4,5,6,7,8,9,10])\n",
    "print(\"Basic Slicing : \",arr[2:7])\n",
    "print(\"With Step Slicing : \",arr[1:8:2])\n",
    "print(\"Negative Indexing : \",arr[-3])"
   ]
  },
  {
   "cell_type": "code",
   "execution_count": 28,
   "id": "d7569b50",
   "metadata": {},
   "outputs": [
    {
     "name": "stdout",
     "output_type": "stream",
     "text": [
      "Specific Element :  3\n",
      "Entire Row :  [4 5 6]\n",
      "Entire Col :  [2 5 8]\n"
     ]
    }
   ],
   "source": [
    "arr_2d = np.array([[1,2,3],\n",
    "                   [4,5,6],\n",
    "                   [7,8,9]])\n",
    "print(\"Specific Element : \", arr_2d[0,2]) #[row,column]\n",
    "print(\"Entire Row : \", arr_2d[1]) #[row,column]\n",
    "print(\"Entire Col : \", arr_2d[:,1]) #ignore with :,"
   ]
  },
  {
   "cell_type": "markdown",
   "id": "72f7ae4c",
   "metadata": {},
   "source": [
    "### Sorting"
   ]
  },
  {
   "cell_type": "code",
   "execution_count": 29,
   "id": "02b44746",
   "metadata": {},
   "outputs": [
    {
     "name": "stdout",
     "output_type": "stream",
     "text": [
      "Sorted Array :  [ 1  2  3  4  4  5  6  7  9 10]\n",
      "Sorted 2d Array by column : \n",
      " [[1 1]\n",
      " [2 2]\n",
      " [3 3]]\n"
     ]
    }
   ],
   "source": [
    "unsorted = np.array([3,9,4,5,7,2,6,10,1,4])\n",
    "print(\"Sorted Array : \", np.sort(unsorted))\n",
    "\n",
    "array_2d_unsorted = np.array([[3,1],[1,2],[2,3]])\n",
    "print(\"Sorted 2d Array by column : \\n\", np.sort(array_2d_unsorted, axis=0))\n"
   ]
  },
  {
   "cell_type": "markdown",
   "id": "e0490923",
   "metadata": {},
   "source": [
    "### Filtering"
   ]
  },
  {
   "cell_type": "code",
   "execution_count": 30,
   "id": "ee71a9a7",
   "metadata": {},
   "outputs": [
    {
     "name": "stdout",
     "output_type": "stream",
     "text": [
      "Even number filtering :  [ 2  4  6  8 10]\n"
     ]
    }
   ],
   "source": [
    "numbers = np.array([1,2,3,4,5,6,7,8,9,10])\n",
    "even_numbers = numbers[numbers % 2 == 0]\n",
    "print(\"Even number filtering : \" , even_numbers)\n"
   ]
  },
  {
   "cell_type": "markdown",
   "id": "bb964dc5",
   "metadata": {},
   "source": [
    "### Filter With Masks"
   ]
  },
  {
   "cell_type": "code",
   "execution_count": 31,
   "id": "20010504",
   "metadata": {},
   "outputs": [
    {
     "name": "stdout",
     "output_type": "stream",
     "text": [
      "Numbers greater than 5  [ 6  7  8  9 10]\n"
     ]
    }
   ],
   "source": [
    "masks = numbers > 5\n",
    "print(\"Numbers greater than 5 \", numbers[masks])"
   ]
  },
  {
   "cell_type": "markdown",
   "id": "ecc6c4ab",
   "metadata": {},
   "source": [
    "### Fancy Indexing vs np.where()"
   ]
  },
  {
   "cell_type": "code",
   "execution_count": 32,
   "id": "2f4edc87",
   "metadata": {},
   "outputs": [
    {
     "name": "stdout",
     "output_type": "stream",
     "text": [
      "Printing Element with array of indexes :  [1 3 5]\n",
      "Np where :  [ 6  7  8  9 10]\n",
      "Condition Array :  [ 1  2  3  4  5 12 14 16 18 20]\n"
     ]
    }
   ],
   "source": [
    "indices = [0,2,4]\n",
    "print(\"Printing Element with array of indexes : \",numbers[indices]) #passing array of indexes to print the array\n",
    "\n",
    "where_result = np.where(numbers > 5)\n",
    "print(\"Np where : \", numbers[where_result])\n",
    "\n",
    "condition_array = np.where(numbers > 5 , numbers * 2 , numbers)\n",
    "print(\"Condition Array : \", condition_array);"
   ]
  },
  {
   "cell_type": "markdown",
   "id": "2b0c4bcd",
   "metadata": {},
   "source": [
    "### Adding and Remove Data"
   ]
  },
  {
   "cell_type": "code",
   "execution_count": 33,
   "id": "ba8efdca",
   "metadata": {},
   "outputs": [
    {
     "name": "stdout",
     "output_type": "stream",
     "text": [
      "Combined Array :  [1 2 3 4 5 6]\n"
     ]
    }
   ],
   "source": [
    "arr1 = np.array([1,2,3])\n",
    "arr2 = np.array([4,5,6])\n",
    "\n",
    "combined = np.concatenate((arr1,arr2)) # [arr1] + [arr2] = [...arr1,...arr2]\n",
    "print(\"Combined Array : \" , combined)"
   ]
  },
  {
   "cell_type": "markdown",
   "id": "638f850f",
   "metadata": {},
   "source": [
    "### Array Compatibility"
   ]
  },
  {
   "cell_type": "code",
   "execution_count": 34,
   "id": "ed0429bc",
   "metadata": {},
   "outputs": [
    {
     "name": "stdout",
     "output_type": "stream",
     "text": [
      "Compatibility Shape :  True\n"
     ]
    }
   ],
   "source": [
    "a = np.array([1,2,3])\n",
    "b = np.array([4,5,6])\n",
    "c = np.array([7,8,9])\n",
    "\n",
    "print(\"Compatibility Shape : \",a.shape == b.shape)"
   ]
  },
  {
   "cell_type": "code",
   "execution_count": 35,
   "id": "dcf52126",
   "metadata": {},
   "outputs": [
    {
     "name": "stdout",
     "output_type": "stream",
     "text": [
      "Original : \n",
      " [[1 2]\n",
      " [3 4]]\n",
      "With new row : \n",
      " [[1 2]\n",
      " [3 4]\n",
      " [5 6]]\n",
      "With new col : \n",
      " [[1 2 7]\n",
      " [3 4 8]]\n"
     ]
    }
   ],
   "source": [
    "original = np.array([[1,2],[3,4]])\n",
    "new_row = np.array([[5,6]])\n",
    "\n",
    "with_new_row = np.vstack((original,new_row)) #.vstack adds a new row\n",
    "print(\"Original : \\n\",original)\n",
    "print(\"With new row : \\n\",with_new_row)\n",
    "\n",
    "new_col = np.array([[7],[8]])\n",
    "with_new_col = np.hstack((original,new_col))\n",
    "print(\"With new col : \\n\", with_new_col)"
   ]
  },
  {
   "cell_type": "code",
   "execution_count": 36,
   "id": "49283a3c",
   "metadata": {},
   "outputs": [
    {
     "name": "stdout",
     "output_type": "stream",
     "text": [
      "Array after deletion :  [ 1  2  4  5  6  7  8  9 10]\n"
     ]
    }
   ],
   "source": [
    "array = np.array([1,2,3,4,5])\n",
    "deleted = np.delete(arr,2)\n",
    "\n",
    "print(\"Array after deletion : \", deleted)"
   ]
  }
 ],
 "metadata": {
  "kernelspec": {
   "display_name": "Python 3",
   "language": "python",
   "name": "python3"
  },
  "language_info": {
   "codemirror_mode": {
    "name": "ipython",
    "version": 3
   },
   "file_extension": ".py",
   "mimetype": "text/x-python",
   "name": "python",
   "nbconvert_exporter": "python",
   "pygments_lexer": "ipython3",
   "version": "3.10.0"
  }
 },
 "nbformat": 4,
 "nbformat_minor": 5
}
